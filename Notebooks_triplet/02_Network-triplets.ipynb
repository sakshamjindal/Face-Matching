{
 "cells": [
  {
   "cell_type": "markdown",
   "metadata": {},
   "source": [
    "### Testing the Network which generates the embeddings"
   ]
  },
  {
   "cell_type": "code",
   "execution_count": 1,
   "metadata": {},
   "outputs": [
    {
     "name": "stderr",
     "output_type": "stream",
     "text": [
      "Using TensorFlow backend.\n"
     ]
    }
   ],
   "source": [
    "import sys\n",
    "sys.path.append(\"../\")\n",
    "\n",
    "import random\n",
    "import torch\n",
    "import matplotlib.pyplot as plt\n",
    "\n",
    "from backbone.dataset import Face_Dataset_Triplet\n",
    "from backbone.loss import TripletLoss\n",
    "\n",
    "from torch.utils.data import DataLoader\n",
    "import torchvision.transforms as transforms\n",
    "from torch import optim\n",
    "import torch.nn as nn"
   ]
  },
  {
   "cell_type": "code",
   "execution_count": 2,
   "metadata": {},
   "outputs": [],
   "source": [
    "face_data = Face_Dataset_Triplet(root_dir= \"../lfw/\", file_root = \"../files/\", train=True)"
   ]
  },
  {
   "cell_type": "code",
   "execution_count": 3,
   "metadata": {},
   "outputs": [],
   "source": [
    "from backbone.networks.inception_resnet_v1 import InceptionResnetV1"
   ]
  },
  {
   "cell_type": "code",
   "execution_count": 4,
   "metadata": {},
   "outputs": [],
   "source": [
    "Siamese_network = InceptionResnetV1(pretrained='vggface2')\n",
    "checkpoint = torch.load(\"../pretrained/20180402-114759-vggface2.pt\")\n",
    "Siamese_network.load_state_dict(checkpoint)\n",
    "Siamese_network = Siamese_network.cuda()"
   ]
  },
  {
   "cell_type": "code",
   "execution_count": 5,
   "metadata": {},
   "outputs": [],
   "source": [
    "face_data_test = Face_Dataset_Triplet(root_dir= \"../lfw/\", \n",
    "                              file_root = \"../files/\", \n",
    "                              test=True)\n",
    "\n",
    "test_dataloader = DataLoader(face_data_test,\n",
    "                        shuffle=True,\n",
    "                        num_workers=8,\n",
    "                        batch_size=1)"
   ]
  },
  {
   "cell_type": "markdown",
   "metadata": {},
   "source": [
    "#### Verify the shape of embeddings"
   ]
  },
  {
   "cell_type": "code",
   "execution_count": 6,
   "metadata": {},
   "outputs": [
    {
     "name": "stdout",
     "output_type": "stream",
     "text": [
      "torch.Size([3, 250, 250]) torch.Size([1, 512])\n"
     ]
    }
   ],
   "source": [
    "for data in test_dataloader:\n",
    "    break\n",
    "    \n",
    "img = data[0].cuda()\n",
    "embeddings = Siamese_network(img)\n",
    "\n",
    "print(img.squeeze(0).shape,embeddings.shape)"
   ]
  },
  {
   "cell_type": "code",
   "execution_count": 11,
   "metadata": {},
   "outputs": [
    {
     "name": "stdout",
     "output_type": "stream",
     "text": [
      "tensor(1.0986, device='cuda:0', grad_fn=<MeanBackward0>)\n"
     ]
    }
   ],
   "source": [
    "criterion = TripletLoss(margin = 1.)\n",
    "\n",
    "img1 = data[0].cuda()\n",
    "img2 = data[1].cuda()\n",
    "img3 = data[2].cuda()\n",
    "\n",
    "fv1 = Siamese_network(img1)\n",
    "fv2 = Siamese_network(img2)\n",
    "fv3 = Siamese_network(img3)\n",
    "\n",
    "loss = criterion(fv1,fv2,fv3)\n",
    "\n",
    "print(loss)"
   ]
  },
  {
   "cell_type": "code",
   "execution_count": null,
   "metadata": {},
   "outputs": [],
   "source": []
  }
 ],
 "metadata": {
  "kernelspec": {
   "display_name": "Lane",
   "language": "python",
   "name": "lane"
  },
  "language_info": {
   "codemirror_mode": {
    "name": "ipython",
    "version": 3
   },
   "file_extension": ".py",
   "mimetype": "text/x-python",
   "name": "python",
   "nbconvert_exporter": "python",
   "pygments_lexer": "ipython3",
   "version": "3.7.4"
  }
 },
 "nbformat": 4,
 "nbformat_minor": 4
}
