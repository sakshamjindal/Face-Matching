{
 "cells": [
  {
   "cell_type": "markdown",
   "metadata": {},
   "source": [
    "### 03_Trainer : Notebook to load configs, dataloaders, load pretrained model and perform training"
   ]
  },
  {
   "cell_type": "code",
   "execution_count": 1,
   "metadata": {},
   "outputs": [],
   "source": [
    "import sys\n",
    "sys.path.append(\"../\")\n",
    "\n",
    "import random\n",
    "import numpy as np\n",
    "import torch\n",
    "\n",
    "from torch.utils.data import DataLoader\n",
    "import torchvision.transforms as transforms\n",
    "from torch import optim\n",
    "from torch.optim import lr_scheduler\n",
    "import torch.nn as nn"
   ]
  },
  {
   "cell_type": "code",
   "execution_count": 2,
   "metadata": {},
   "outputs": [
    {
     "name": "stderr",
     "output_type": "stream",
     "text": [
      "Using TensorFlow backend.\n"
     ]
    }
   ],
   "source": [
    "from backbone.dataset import Face_Dataset_Triplet\n",
    "from backbone.loss import ContrastiveLoss,TripletLoss\n",
    "from backbone.networks.inception_resnet_v1 import InceptionResnetV1"
   ]
  },
  {
   "cell_type": "markdown",
   "metadata": {},
   "source": [
    "### Configs\n"
   ]
  },
  {
   "cell_type": "code",
   "execution_count": 3,
   "metadata": {},
   "outputs": [],
   "source": [
    "batch_size = 32\n",
    "lr = 1e-2\n",
    "n_epochs = 20\n",
    "log_interval = 50"
   ]
  },
  {
   "cell_type": "markdown",
   "metadata": {},
   "source": [
    "### Load the datasets"
   ]
  },
  {
   "cell_type": "code",
   "execution_count": 4,
   "metadata": {},
   "outputs": [],
   "source": [
    "face_data_train = Face_Dataset_Triplet(root_dir= \"../lfw/\", file_root = \"../files/\", train=True)\n",
    "face_data_val =   Face_Dataset_Triplet(root_dir= \"../lfw/\", file_root = \"../files/\", test=True)"
   ]
  },
  {
   "cell_type": "markdown",
   "metadata": {},
   "source": [
    "### Load the Model (for transfer learning)\n"
   ]
  },
  {
   "cell_type": "code",
   "execution_count": 5,
   "metadata": {},
   "outputs": [],
   "source": [
    "Siamese_network = InceptionResnetV1(pretrained='vggface2')\n",
    "checkpoint = torch.load(\"../pretrained/20180402-114759-vggface2.pt\")\n",
    "Siamese_network.load_state_dict(checkpoint)\n",
    "Siamese_network = Siamese_network.cuda()"
   ]
  },
  {
   "cell_type": "markdown",
   "metadata": {},
   "source": [
    "### Training parameters"
   ]
  },
  {
   "cell_type": "code",
   "execution_count": 6,
   "metadata": {},
   "outputs": [],
   "source": [
    "criterion = TripletLoss(margin=1.)\n",
    "optimizer = optim.Adam(Siamese_network.parameters(), lr=lr)\n",
    "scheduler = lr_scheduler.StepLR(optimizer, 4, gamma=0.1, last_epoch=-1)"
   ]
  },
  {
   "cell_type": "markdown",
   "metadata": {},
   "source": [
    "### Dataloaders"
   ]
  },
  {
   "cell_type": "code",
   "execution_count": 7,
   "metadata": {},
   "outputs": [],
   "source": [
    "train_dataloader = DataLoader(face_data_train,\n",
    "                        shuffle=True,\n",
    "                        num_workers=8,\n",
    "                        batch_size=batch_size)"
   ]
  },
  {
   "cell_type": "code",
   "execution_count": 8,
   "metadata": {},
   "outputs": [],
   "source": [
    "test_dataloader = DataLoader(face_data_val,\n",
    "                        shuffle=True,\n",
    "                        num_workers=8,\n",
    "                        batch_size=batch_size)"
   ]
  },
  {
   "cell_type": "markdown",
   "metadata": {},
   "source": [
    "### Train Procedure"
   ]
  },
  {
   "cell_type": "code",
   "execution_count": 9,
   "metadata": {},
   "outputs": [],
   "source": [
    "from backbone.trainer import train_epoch,validate_epoch,save_model"
   ]
  },
  {
   "cell_type": "code",
   "execution_count": 10,
   "metadata": {},
   "outputs": [],
   "source": [
    "train_losses = []\n",
    "val_losses = []\n",
    "best_loss = np.inf"
   ]
  },
  {
   "cell_type": "code",
   "execution_count": 11,
   "metadata": {},
   "outputs": [],
   "source": [
    "exp_name = \"inception_resnet_V1_pretrained_triplet\""
   ]
  },
  {
   "cell_type": "code",
   "execution_count": 12,
   "metadata": {},
   "outputs": [
    {
     "name": "stdout",
     "output_type": "stream",
     "text": [
      "Epoch Number : 0\n",
      "---------------------------------------------------------------\n",
      "    Train Loss :0.9976881954405042  , Val_Loss : 0.7347345139299121 , Learning Rate: [0.01]\n",
      "\n",
      "\n",
      "Epoch Number : 1\n",
      "---------------------------------------------------------------\n",
      "    Train Loss :0.9538144826889038  , Val_Loss : 0.6559733088527407 , Learning Rate: [0.01]\n",
      "\n",
      "\n",
      "Epoch Number : 2\n",
      "---------------------------------------------------------------\n",
      "    Train Loss :0.8966675440470377  , Val_Loss : 0.6494932238544736 , Learning Rate: [0.01]\n",
      "\n",
      "\n",
      "Epoch Number : 3\n",
      "---------------------------------------------------------------\n",
      "    Train Loss :0.8274644533793132  , Val_Loss : 0.6045036890677044 , Learning Rate: [0.01]\n",
      "\n",
      "\n",
      "Epoch Number : 4\n",
      "---------------------------------------------------------------\n",
      "    Train Loss :0.7977578547265795  , Val_Loss : 0.5978392149720874 , Learning Rate: [0.001]\n",
      "\n",
      "\n",
      "Epoch Number : 5\n",
      "---------------------------------------------------------------\n",
      "    Train Loss :0.8273285667101542  , Val_Loss : 0.6044237464666367 , Learning Rate: [0.001]\n",
      "\n",
      "\n",
      "Epoch Number : 6\n",
      "---------------------------------------------------------------\n",
      "    Train Loss :0.8015271928575304  , Val_Loss : 0.6138434771980558 , Learning Rate: [0.001]\n",
      "\n",
      "\n",
      "Epoch Number : 7\n",
      "---------------------------------------------------------------\n",
      "    Train Loss :0.8073967807822757  , Val_Loss : 0.5946985483169556 , Learning Rate: [0.001]\n",
      "\n",
      "\n",
      "Epoch Number : 8\n",
      "---------------------------------------------------------------\n",
      "    Train Loss :0.7450326946046617  , Val_Loss : 0.6153236329555511 , Learning Rate: [0.00010000000000000002]\n",
      "\n",
      "\n",
      "Epoch Number : 9\n",
      "---------------------------------------------------------------\n",
      "    Train Loss :0.762277274661594  , Val_Loss : 0.6140778022153037 , Learning Rate: [0.00010000000000000002]\n",
      "\n",
      "\n",
      "Epoch Number : 10\n",
      "---------------------------------------------------------------\n",
      "    Train Loss :0.776001955403222  , Val_Loss : 0.6119705864361354 , Learning Rate: [0.00010000000000000002]\n",
      "\n",
      "\n",
      "Epoch Number : 11\n",
      "---------------------------------------------------------------\n",
      "    Train Loss :0.7470139424006145  , Val_Loss : 0.6056954328502927 , Learning Rate: [0.00010000000000000002]\n",
      "\n",
      "\n",
      "Epoch Number : 12\n",
      "---------------------------------------------------------------\n",
      "    Train Loss :0.7572943992084927  , Val_Loss : 0.6111373858792442 , Learning Rate: [1.0000000000000003e-05]\n",
      "\n",
      "\n",
      "Epoch Number : 13\n",
      "---------------------------------------------------------------\n",
      "    Train Loss :0.742137787077162  , Val_Loss : 0.6107872234923499 , Learning Rate: [1.0000000000000003e-05]\n",
      "\n",
      "\n",
      "Epoch Number : 14\n",
      "---------------------------------------------------------------\n",
      "    Train Loss :0.7606277823448181  , Val_Loss : 0.6004057760749545 , Learning Rate: [1.0000000000000003e-05]\n",
      "\n",
      "\n",
      "Epoch Number : 15\n",
      "---------------------------------------------------------------\n",
      "    Train Loss :0.7348763889736599  , Val_Loss : 0.624520582812173 , Learning Rate: [1.0000000000000003e-05]\n",
      "\n",
      "\n",
      "Epoch Number : 16\n",
      "---------------------------------------------------------------\n",
      "    Train Loss :0.7201903627978431  , Val_Loss : 0.6007513403892517 , Learning Rate: [1.0000000000000002e-06]\n",
      "\n",
      "\n",
      "Epoch Number : 17\n",
      "---------------------------------------------------------------\n",
      "    Train Loss :0.7659432503912184  , Val_Loss : 0.6408536093575614 , Learning Rate: [1.0000000000000002e-06]\n",
      "\n",
      "\n",
      "Epoch Number : 18\n",
      "---------------------------------------------------------------\n",
      "    Train Loss :0.7350413362185161  , Val_Loss : 0.5916554927825928 , Learning Rate: [1.0000000000000002e-06]\n",
      "\n",
      "\n",
      "Epoch Number : 19\n",
      "---------------------------------------------------------------\n",
      "    Train Loss :0.7447558323542277  , Val_Loss : 0.618005707859993 , Learning Rate: [1.0000000000000002e-06]\n",
      "\n",
      "\n"
     ]
    }
   ],
   "source": [
    "for epoch in range(20):\n",
    "        \n",
    "    learning_rate = scheduler.get_lr()\n",
    "    train_loss = train_epoch(train_dataloader,Siamese_network,criterion,optimizer)\n",
    "    val_loss = validate_epoch(test_dataloader,Siamese_network,criterion)\n",
    "    scheduler.step()\n",
    "    \n",
    "    if val_loss<best_loss:\n",
    "        best_loss =  val_loss\n",
    "        save_model(Siamese_network,exp_name)\n",
    "\n",
    "    train_losses.append(train_loss)\n",
    "    val_losses.append(val_loss)\n",
    "    \n",
    "    print(\"Epoch Number : {}\".format(epoch))\n",
    "    print(\"---------------------------------------------------------------\")\n",
    "    print(\"    Train Loss :{}  , Val_Loss : {} , Learning Rate: {}\".format(train_loss,val_loss,learning_rate))\n",
    "    print(\"\\n\")"
   ]
  },
  {
   "cell_type": "code",
   "execution_count": 13,
   "metadata": {},
   "outputs": [
    {
     "data": {
      "text/plain": [
       "[<matplotlib.lines.Line2D at 0x7fc0e00d4210>]"
      ]
     },
     "execution_count": 13,
     "metadata": {},
     "output_type": "execute_result"
    },
    {
     "data": {
      "image/png": "[encoded data removed]",
      "text/plain": [
       "<Figure size 432x288 with 1 Axes>"
      ]
     },
     "metadata": {
      "needs_background": "light"
     },
     "output_type": "display_data"
    }
   ],
   "source": [
    "import matplotlib.pyplot as plt\n",
    "\n",
    "plt.plot(train_losses)\n",
    "plt.plot(val_losses)"
   ]
  },
  {
   "cell_type": "code",
   "execution_count": null,
   "metadata": {},
   "outputs": [],
   "source": []
  }
 ],
 "metadata": {
  "kernelspec": {
   "display_name": "Lane",
   "language": "python",
   "name": "lane"
  },
  "language_info": {
   "codemirror_mode": {
    "name": "ipython",
    "version": 3
   },
   "file_extension": ".py",
   "mimetype": "text/x-python",
   "name": "python",
   "nbconvert_exporter": "python",
   "pygments_lexer": "ipython3",
   "version": "3.7.4"
  }
 },
 "nbformat": 4,
 "nbformat_minor": 4
}
