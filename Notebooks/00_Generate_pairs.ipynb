{
 "cells": [
  {
   "cell_type": "markdown",
   "metadata": {},
   "source": [
    "### Split between train and val image and consequently generate positive and negative pair"
   ]
  },
  {
   "cell_type": "code",
   "execution_count": 1,
   "metadata": {},
   "outputs": [],
   "source": [
    "import glob\n",
    "import os\n",
    "import random"
   ]
  },
  {
   "cell_type": "code",
   "execution_count": 2,
   "metadata": {},
   "outputs": [],
   "source": [
    "root_dir = \"../lfw/\""
   ]
  },
  {
   "cell_type": "code",
   "execution_count": 3,
   "metadata": {},
   "outputs": [],
   "source": [
    "all_images = glob.glob(root_dir + \"*/*.jpg\")"
   ]
  },
  {
   "cell_type": "code",
   "execution_count": 4,
   "metadata": {},
   "outputs": [],
   "source": [
    "random.shuffle(all_images)"
   ]
  },
  {
   "cell_type": "code",
   "execution_count": 5,
   "metadata": {},
   "outputs": [],
   "source": [
    "split_factor = 0.8"
   ]
  },
  {
   "cell_type": "code",
   "execution_count": 6,
   "metadata": {},
   "outputs": [],
   "source": [
    "train_images =  all_images[0:int(len(all_images)*split_factor)]\n",
    "test_images = all_images[int(len(all_images)*split_factor):]"
   ]
  },
  {
   "cell_type": "code",
   "execution_count": 7,
   "metadata": {},
   "outputs": [
    {
     "name": "stdout",
     "output_type": "stream",
     "text": [
      "9528 2382\n"
     ]
    }
   ],
   "source": [
    "print(len(train_images),len(test_images))"
   ]
  },
  {
   "cell_type": "code",
   "execution_count": 8,
   "metadata": {},
   "outputs": [],
   "source": [
    "num_pairs_train = 3000\n",
    "num_pairs_test = 500"
   ]
  },
  {
   "cell_type": "code",
   "execution_count": 9,
   "metadata": {},
   "outputs": [
    {
     "name": "stderr",
     "output_type": "stream",
     "text": [
      "100%|██████████| 3000/3000 [00:01<00:00, 2289.42it/s]\n"
     ]
    }
   ],
   "source": [
    "train_pairs = []\n",
    "\n",
    "from tqdm import tqdm \n",
    "\n",
    "for i in tqdm(range(num_pairs_train)):\n",
    "    img1 = random.choice(train_images)\n",
    "    class_img1 = img1.split(\"/\")[-2]\n",
    "    roll_dice = random.randint(0,1)\n",
    "    \n",
    "    # get a random number from 0 or 1. This is to ensure that the number of positive and negative pairs are uniformly \n",
    "    # distributed\n",
    "    \n",
    "    if roll_dice:\n",
    "        while True:\n",
    "            same_class_images = glob.glob(root_dir + class_img1 + \"/*\")\n",
    "            img2 = random.choice(same_class_images)\n",
    "            if img2 in train_images:\n",
    "                break\n",
    "    else:\n",
    "        while True:\n",
    "            img2 = random.choice(train_images)\n",
    "            class_img2 = img2.split(\"/\")[-2]\n",
    "            \n",
    "            if(class_img2!=class_img1):\n",
    "                break  \n",
    "\n",
    "    img1 = img1.split(\"../lfw/\")[-1]\n",
    "    img2 = img2.split(\"../lfw/\")[-1]\n",
    "    \n",
    "    train_pairs.append([img1,img2,roll_dice]) "
   ]
  },
  {
   "cell_type": "code",
   "execution_count": 11,
   "metadata": {},
   "outputs": [
    {
     "name": "stderr",
     "output_type": "stream",
     "text": [
      "100%|██████████| 500/500 [00:00<00:00, 1178.98it/s]\n"
     ]
    }
   ],
   "source": [
    "test_pairs = []\n",
    "\n",
    "for i in tqdm(range(num_pairs_test)):\n",
    "    img1 = random.choice(test_images)\n",
    "    class_img1 = img1.split(\"/\")[-2]\n",
    "    \n",
    "    # get a random number from 0 or 1. This is to ensure that the number of positive and negative pairs are uniformly \n",
    "    # distributed\n",
    "    \n",
    "    roll_dice = random.randint(0,1)\n",
    "    \n",
    "    if roll_dice:\n",
    "        while True:\n",
    "            same_class_images = glob.glob(root_dir + class_img1 + \"/*\")            \n",
    "            img2 = random.choice(same_class_images)    \n",
    "            if img2 in test_images:\n",
    "                break\n",
    "    else:\n",
    "        while True:\n",
    "            img2 = random.choice(test_images)\n",
    "            class_img2 = img2.split(\"/\")[-2]\n",
    "            \n",
    "            if(class_img2!=class_img1):\n",
    "                break\n",
    "                \n",
    "    img1 = img1.split(\"../lfw/\")[-1]\n",
    "    img2 = img2.split(\"../lfw/\")[-1]\n",
    "                \n",
    "    test_pairs.append([img1,img2,roll_dice])   "
   ]
  },
  {
   "cell_type": "code",
   "execution_count": 12,
   "metadata": {},
   "outputs": [],
   "source": [
    "train_writer = open(\"../files/couples/train.txt\",\"w\")\n",
    "test_writer = open(\"../files/couples/test.txt\",\"w\")"
   ]
  },
  {
   "cell_type": "code",
   "execution_count": 13,
   "metadata": {},
   "outputs": [],
   "source": [
    "for i in train_pairs:\n",
    "    train_writer.write(\"{} {} {}\".format(i[0],i[1],i[2]))\n",
    "    train_writer.write(\"\\n\")"
   ]
  },
  {
   "cell_type": "code",
   "execution_count": 14,
   "metadata": {},
   "outputs": [],
   "source": [
    "for i in test_pairs:\n",
    "    test_writer.write(\"{} {} {}\".format(i[0],i[1],i[2]))\n",
    "    test_writer.write(\"\\n\")"
   ]
  },
  {
   "cell_type": "code",
   "execution_count": 20,
   "metadata": {},
   "outputs": [
    {
     "name": "stdout",
     "output_type": "stream",
     "text": [
      "Num Classes : 4636 \n"
     ]
    }
   ],
   "source": [
    "classes = os.listdir(root_dir)\n",
    "print(\"Num Classes : {} \".format(len(classes)))"
   ]
  },
  {
   "cell_type": "code",
   "execution_count": 24,
   "metadata": {},
   "outputs": [],
   "source": [
    "class_mapping = {}\n",
    "\n",
    "for index,i in enumerate(classes):\n",
    "     class_mapping[i] = index"
   ]
  },
  {
   "cell_type": "code",
   "execution_count": 17,
   "metadata": {},
   "outputs": [],
   "source": [
    "train_writer = open(\"../files/train.txt\",\"w\")\n",
    "test_writer = open(\"../files/test.txt\",\"w\")"
   ]
  },
  {
   "cell_type": "code",
   "execution_count": 31,
   "metadata": {},
   "outputs": [],
   "source": [
    "for i in train_images:\n",
    "    i = i.split(\"../lfw/\")[-1]\n",
    "    class_name = i.split(\"/\")[0]\n",
    "    class_index = class_mapping[class_name]\n",
    "    train_writer.write(\"{} {}\".format(i,class_index))\n",
    "    train_writer.write(\"\\n\")\n",
    "    \n",
    "for i in test_images:\n",
    "    i = i.split(\"../lfw/\")[-1]\n",
    "    class_name = i.split(\"/\")[0]\n",
    "    class_index = class_mapping[class_name]\n",
    "    test_writer.write(\"{} {}\".format(i,class_index))\n",
    "    test_writer.write(\"\\n\")\n",
    "    "
   ]
  },
  {
   "cell_type": "code",
   "execution_count": 32,
   "metadata": {},
   "outputs": [],
   "source": [
    "class_writer = open(\"../files/labels.txt\",\"w\")\n",
    "\n",
    "for c in classes:\n",
    "    class_writer.write(\"{}\".format(c))\n",
    "    class_writer.write(\"\\n\")"
   ]
  },
  {
   "cell_type": "code",
   "execution_count": null,
   "metadata": {},
   "outputs": [],
   "source": []
  }
 ],
 "metadata": {
  "kernelspec": {
   "display_name": "Python 3",
   "language": "python",
   "name": "python3"
  },
  "language_info": {
   "codemirror_mode": {
    "name": "ipython",
    "version": 3
   },
   "file_extension": ".py",
   "mimetype": "text/x-python",
   "name": "python",
   "nbconvert_exporter": "python",
   "pygments_lexer": "ipython3",
   "version": "3.7.3"
  }
 },
 "nbformat": 4,
 "nbformat_minor": 4
}
