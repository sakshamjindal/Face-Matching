{
 "cells": [
  {
   "cell_type": "code",
   "execution_count": 1,
   "metadata": {},
   "outputs": [],
   "source": [
    "import glob\n",
    "import os\n",
    "import random\n",
    "from tqdm import tqdm"
   ]
  },
  {
   "cell_type": "code",
   "execution_count": 2,
   "metadata": {},
   "outputs": [],
   "source": [
    "train_images = []\n",
    "\n",
    "with open(\"../files/train.txt\") as f:\n",
    "    lines = f.readlines()\n",
    "    \n",
    "    for line in lines:\n",
    "        img_path = line.split(\" \")[0]\n",
    "        class_label = line.split(\" \")[1][:-2]\n",
    "        train_images.append(img_path)\n",
    "        \n",
    "test_images = []\n",
    "\n",
    "with open(\"../files/test.txt\") as f:\n",
    "    lines = f.readlines()\n",
    "    \n",
    "    for line in lines:\n",
    "        img_path = line.split(\" \")[0]\n",
    "        class_label = line.split(\" \")[1][:-2]\n",
    "        test_images.append(img_path)"
   ]
  },
  {
   "cell_type": "markdown",
   "metadata": {},
   "source": [
    "Generate-triplets"
   ]
  },
  {
   "cell_type": "code",
   "execution_count": 7,
   "metadata": {},
   "outputs": [],
   "source": [
    "num_triplets = 1500\n",
    "train_triplets = []"
   ]
  },
  {
   "cell_type": "code",
   "execution_count": 8,
   "metadata": {},
   "outputs": [
    {
     "name": "stderr",
     "output_type": "stream",
     "text": [
      "100%|██████████| 1500/1500 [00:06<00:00, 216.76it/s]\n"
     ]
    }
   ],
   "source": [
    "for i in tqdm(range(num_triplets)):\n",
    "    anchor = random.choice(train_images)\n",
    "    class_anchor = anchor.split(\"/\")[-2]\n",
    "    \n",
    "    while True:\n",
    "        positive = random.choice(train_images)\n",
    "        class_positive =  positive.split(\"/\")[-2]\n",
    "        \n",
    "        if class_anchor == class_positive:\n",
    "            break\n",
    "            \n",
    "    while True:\n",
    "        negative = random.choice(train_images)\n",
    "        class_negative = negative.split(\"/\")[-2]\n",
    "        \n",
    "        if class_anchor != class_negative:\n",
    "            break\n",
    "            \n",
    "    train_triplets.append([anchor,positive,negative])"
   ]
  },
  {
   "cell_type": "code",
   "execution_count": 9,
   "metadata": {},
   "outputs": [],
   "source": [
    "num_triplets = 500\n",
    "test_triplets = []"
   ]
  },
  {
   "cell_type": "code",
   "execution_count": 10,
   "metadata": {},
   "outputs": [
    {
     "name": "stderr",
     "output_type": "stream",
     "text": [
      "100%|██████████| 500/500 [00:01<00:00, 494.97it/s]\n"
     ]
    }
   ],
   "source": [
    "for i in tqdm(range(num_triplets)):\n",
    "    anchor = random.choice(test_images)\n",
    "    class_anchor = anchor.split(\"/\")[-2]\n",
    "    \n",
    "    while True:\n",
    "        positive = random.choice(test_images)\n",
    "        class_positive =  positive.split(\"/\")[-2]\n",
    "        \n",
    "        if class_anchor == class_positive:\n",
    "            break\n",
    "            \n",
    "    while True:\n",
    "        negative = random.choice(test_images)\n",
    "        class_negative = negative.split(\"/\")[-2]\n",
    "        \n",
    "        if class_anchor != class_negative:\n",
    "            break\n",
    "            \n",
    "    test_triplets.append([anchor,positive,negative])"
   ]
  },
  {
   "cell_type": "code",
   "execution_count": 12,
   "metadata": {},
   "outputs": [],
   "source": [
    "train_writer = open(\"../files/triplets/train.txt\",\"w\")\n",
    "test_writer = open(\"../files/triplets/test.txt\",\"w\")"
   ]
  },
  {
   "cell_type": "code",
   "execution_count": 13,
   "metadata": {},
   "outputs": [],
   "source": [
    "for i in train_triplets:\n",
    "    train_writer.write(\"{} {} {}\".format(i[0],i[1],i[2]))\n",
    "    train_writer.write(\"\\n\")"
   ]
  },
  {
   "cell_type": "code",
   "execution_count": 15,
   "metadata": {},
   "outputs": [],
   "source": [
    "for i in test_triplets:\n",
    "    test_writer.write(\"{} {} {}\".format(i[0],i[1],i[2]))\n",
    "    test_writer.write(\"\\n\")"
   ]
  },
  {
   "cell_type": "code",
   "execution_count": null,
   "metadata": {},
   "outputs": [],
   "source": []
  }
 ],
 "metadata": {
  "kernelspec": {
   "display_name": "Lane",
   "language": "python",
   "name": "lane"
  },
  "language_info": {
   "codemirror_mode": {
    "name": "ipython",
    "version": 3
   },
   "file_extension": ".py",
   "mimetype": "text/x-python",
   "name": "python",
   "nbconvert_exporter": "python",
   "pygments_lexer": "ipython3",
   "version": "3.7.4"
  }
 },
 "nbformat": 4,
 "nbformat_minor": 4
}
