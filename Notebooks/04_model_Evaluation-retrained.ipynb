{
 "cells": [
  {
   "cell_type": "markdown",
   "metadata": {},
   "source": [
    "### 04_model_evaluation_Retrained:\n",
    "    Notebook to load the re-trained model on LFW dataset and evaluate the metrics on the test dataset"
   ]
  },
  {
   "cell_type": "code",
   "execution_count": 4,
   "metadata": {},
   "outputs": [],
   "source": [
    "import sys\n",
    "sys.path.append(\"../\")\n",
    "\n",
    "import random\n",
    "import torch\n",
    "import matplotlib.pyplot as plt\n",
    "from sklearn.metrics import f1_score, accuracy_score\n",
    "import numpy as np\n",
    "\n",
    "from backbone.dataset import Face_Dataset\n",
    "\n",
    "from torch.utils.data import DataLoader\n",
    "import torchvision.transforms as transforms\n",
    "from torch import optim\n",
    "import torch.nn as nn"
   ]
  },
  {
   "cell_type": "code",
   "execution_count": 5,
   "metadata": {},
   "outputs": [],
   "source": [
    "batch_size = 16"
   ]
  },
  {
   "cell_type": "code",
   "execution_count": 6,
   "metadata": {},
   "outputs": [],
   "source": [
    "face_data_train = Face_Dataset(root_dir= \"../lfw/\", file_root = \"../files/\", \n",
    "                               train=True)\n",
    "\n",
    "train_dataloader = DataLoader(face_data_train,\n",
    "                        shuffle=True,\n",
    "                        num_workers=8,\n",
    "                        batch_size=batch_size)\n",
    "\n",
    "face_data_test = Face_Dataset(root_dir= \"../lfw/\", \n",
    "                              file_root = \"../files/\", \n",
    "                              test=True)\n",
    "\n",
    "test_dataloader = DataLoader(face_data_test,\n",
    "                        shuffle=True,\n",
    "                        num_workers=8,\n",
    "                        batch_size=8)"
   ]
  },
  {
   "cell_type": "code",
   "execution_count": 7,
   "metadata": {},
   "outputs": [],
   "source": [
    "from backbone.networks.inception_resnet_v1 import InceptionResnetV1"
   ]
  },
  {
   "cell_type": "markdown",
   "metadata": {},
   "source": [
    "### Load the trained model weights"
   ]
  },
  {
   "cell_type": "code",
   "execution_count": 8,
   "metadata": {},
   "outputs": [],
   "source": [
    "model = InceptionResnetV1(pretrained='vggface2')\n",
    "checkpoint = torch.load(\"../experiments/best_inception_resnet_V1_pretrained.pth\")\n",
    "model.load_state_dict(checkpoint)\n",
    "model = model.cuda()"
   ]
  },
  {
   "cell_type": "code",
   "execution_count": 10,
   "metadata": {},
   "outputs": [],
   "source": [
    "labels = []\n",
    "cosine_similarity = []\n",
    "\n",
    "for data in test_dataloader:\n",
    "    \n",
    "    model.eval()\n",
    "    with torch.no_grad():\n",
    "        \n",
    "        img1 = data[0].cuda()\n",
    "        img2 = data[1].cuda()\n",
    "        labels += list(data[2].numpy().flatten().astype(int))\n",
    "        \n",
    "        embedding1 = model(img1)\n",
    "        embedding2 = model(img2)\n",
    "        \n",
    "        cos = nn.CosineSimilarity(dim=1, eps=1e-6)\n",
    "        cosine_similarity += list(cos(embedding1,embedding2).cpu().numpy())\n",
    "   "
   ]
  },
  {
   "cell_type": "markdown",
   "metadata": {},
   "source": [
    "### Determining Threshold"
   ]
  },
  {
   "cell_type": "code",
   "execution_count": 11,
   "metadata": {},
   "outputs": [],
   "source": [
    "thresholds = list(np.arange(0.3, 1.0, 0.01))\n",
    "\n",
    "f1_scores = [f1_score(labels, cosine_similarity > t) for t in thresholds]\n",
    "acc_scores = [accuracy_score(labels, cosine_similarity > t) for t in thresholds] \n"
   ]
  },
  {
   "cell_type": "code",
   "execution_count": 12,
   "metadata": {},
   "outputs": [
    {
     "data": {
      "text/plain": [
       "Text(0, 0.5, 'F1 Score')"
      ]
     },
     "execution_count": 12,
     "metadata": {},
     "output_type": "execute_result"
    },
    {
     "data": {
      "image/png": "[encoded data removed]",
      "text/plain": [
       "<Figure size 432x288 with 1 Axes>"
      ]
     },
     "metadata": {
      "needs_background": "light"
     },
     "output_type": "display_data"
    }
   ],
   "source": [
    "plt.plot(thresholds,f1_scores)\n",
    "plt.xlabel(\"Cosine Threshold\")\n",
    "plt.ylabel(\"F1 Score\")"
   ]
  },
  {
   "cell_type": "code",
   "execution_count": 13,
   "metadata": {},
   "outputs": [
    {
     "data": {
      "text/plain": [
       "Text(0, 0.5, 'Accuracy')"
      ]
     },
     "execution_count": 13,
     "metadata": {},
     "output_type": "execute_result"
    },
    {
     "data": {
      "image/png": "[encoded data removed]",
      "text/plain": [
       "<Figure size 432x288 with 1 Axes>"
      ]
     },
     "metadata": {
      "needs_background": "light"
     },
     "output_type": "display_data"
    }
   ],
   "source": [
    "plt.plot(thresholds,acc_scores)\n",
    "plt.xlabel(\"Cosine Threshold\")\n",
    "plt.ylabel(\"Accuracy\")"
   ]
  },
  {
   "cell_type": "code",
   "execution_count": 14,
   "metadata": {},
   "outputs": [],
   "source": [
    "max_f1 = max(f1_scores)\n",
    "max_f1_index = f1_scores.index(max_f1)"
   ]
  },
  {
   "cell_type": "code",
   "execution_count": 15,
   "metadata": {},
   "outputs": [
    {
     "name": "stdout",
     "output_type": "stream",
     "text": [
      "At threshold : 0.99, we get a maximum of f1 score : 0.6277602523659306 \n"
     ]
    }
   ],
   "source": [
    "print(\"At threshold : {}, we get a maximum of f1 score : {} \".format(round(thresholds[max_f1_index],4),max_f1))"
   ]
  },
  {
   "cell_type": "code",
   "execution_count": null,
   "metadata": {},
   "outputs": [],
   "source": []
  }
 ],
 "metadata": {
  "kernelspec": {
   "display_name": "Lane",
   "language": "python",
   "name": "lane"
  },
  "language_info": {
   "codemirror_mode": {
    "name": "ipython",
    "version": 3
   },
   "file_extension": ".py",
   "mimetype": "text/x-python",
   "name": "python",
   "nbconvert_exporter": "python",
   "pygments_lexer": "ipython3",
   "version": "3.7.4"
  }
 },
 "nbformat": 4,
 "nbformat_minor": 4
}
