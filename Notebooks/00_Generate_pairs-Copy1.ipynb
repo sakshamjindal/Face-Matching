{
 "cells": [
  {
   "cell_type": "markdown",
   "metadata": {},
   "source": [
    "### Split between train and val image and consequently generate positive and negative pair"
   ]
  },
  {
   "cell_type": "code",
   "execution_count": 1,
   "metadata": {},
   "outputs": [],
   "source": [
    "import glob\n",
    "import os\n",
    "import numpy as np\n",
    "import random\n"
   ]
  },
  {
   "cell_type": "code",
   "execution_count": 2,
   "metadata": {},
   "outputs": [],
   "source": [
    "root_dir = \"../lfw/\""
   ]
  },
  {
   "cell_type": "code",
   "execution_count": 3,
   "metadata": {},
   "outputs": [],
   "source": [
    "all_images = glob.glob(root_dir + \"*/*.jpg\")"
   ]
  },
  {
   "cell_type": "code",
   "execution_count": 4,
   "metadata": {},
   "outputs": [],
   "source": [
    "random.shuffle(all_images)"
   ]
  },
  {
   "cell_type": "code",
   "execution_count": 5,
   "metadata": {},
   "outputs": [],
   "source": [
    "split_factor = 0.8"
   ]
  },
  {
   "cell_type": "code",
   "execution_count": 6,
   "metadata": {},
   "outputs": [],
   "source": [
    "train_images =  all_images[0:int(len(all_images)*split_factor)]\n",
    "test_images = all_images[int(len(all_images)*split_factor):]"
   ]
  },
  {
   "cell_type": "code",
   "execution_count": 7,
   "metadata": {},
   "outputs": [
    {
     "name": "stdout",
     "output_type": "stream",
     "text": [
      "9528 2382\n"
     ]
    }
   ],
   "source": [
    "print(len(train_images),len(test_images))"
   ]
  },
  {
   "cell_type": "code",
   "execution_count": 8,
   "metadata": {},
   "outputs": [],
   "source": [
    "num_pairs_train = 3000\n",
    "num_pairs_test = 500"
   ]
  },
  {
   "cell_type": "code",
   "execution_count": 9,
   "metadata": {},
   "outputs": [
    {
     "name": "stderr",
     "output_type": "stream",
     "text": [
      "100%|██████████| 1500/1500 [00:01<00:00, 1415.44it/s]\n",
      "100%|██████████| 1500/1500 [00:00<00:00, 10899.75it/s]\n"
     ]
    }
   ],
   "source": [
    "from tqdm import tqdm \n",
    "\n",
    "train_pairs = []\n",
    "\n",
    "anchors = []\n",
    "\n",
    "for i in tqdm(range(int(num_pairs_train/2))):\n",
    "    \n",
    "    img1 = random.choice(train_images)\n",
    "    while img1 in anchors:\n",
    "        img1 = random.choice(train_images)\n",
    "        \n",
    "    anchors.append(img1)\n",
    "    class_img1 = img1.split(\"/\")[-2]\n",
    "\n",
    "    while True:\n",
    "        same_class_images = glob.glob(root_dir + class_img1 + \"/*\")\n",
    "        img2 = random.choice(same_class_images)\n",
    "        break\n",
    "#         if img2 not in anchors:\n",
    "#             break\n",
    "\n",
    "    img1 = img1.split(\"../lfw/\")[-1]\n",
    "    img2 = img2.split(\"../lfw/\")[-1]\n",
    "\n",
    "    train_pairs.append([img1,img2,1]) \n",
    "    \n",
    "    \n",
    "for i in tqdm(range(int(num_pairs_train/2))):\n",
    "    \n",
    "    img1 = random.choice(train_images)\n",
    "    while img1 in anchors:\n",
    "        img1 = random.choice(train_images)\n",
    "        \n",
    "    anchors.append(img1)\n",
    "    class_img1 = img1.split(\"/\")[-2]\n",
    "\n",
    "    while True:\n",
    "        img2 = random.choice(train_images)\n",
    "        class_img2 = img2.split(\"/\")[-2]\n",
    "\n",
    "        if(class_img2!=class_img1):\n",
    "            break  \n",
    "\n",
    "    img1 = img1.split(\"../lfw/\")[-1]\n",
    "    img2 = img2.split(\"../lfw/\")[-1]\n",
    "\n",
    "    train_pairs.append([img1,img2,0]) "
   ]
  },
  {
   "cell_type": "code",
   "execution_count": 11,
   "metadata": {},
   "outputs": [
    {
     "name": "stderr",
     "output_type": "stream",
     "text": [
      "100%|██████████| 250/250 [00:00<00:00, 1521.79it/s]\n",
      "100%|██████████| 250/250 [00:00<00:00, 49104.43it/s]\n"
     ]
    }
   ],
   "source": [
    "from tqdm import tqdm \n",
    "\n",
    "test_pairs = []\n",
    "\n",
    "anchors = []\n",
    "\n",
    "for i in tqdm(range(int(num_pairs_test/2))):\n",
    "    \n",
    "    img1 = random.choice(test_images)\n",
    "    while img1 in anchors:\n",
    "        img1 = random.choice(test_images)\n",
    "        \n",
    "    anchors.append(img1)\n",
    "    class_img1 = img1.split(\"/\")[-2]\n",
    "\n",
    "    while True:\n",
    "        same_class_images = glob.glob(root_dir + class_img1 + \"/*\")\n",
    "        img2 = random.choice(same_class_images)\n",
    "        break\n",
    "#         if img2 not in anchors:\n",
    "#             break\n",
    "\n",
    "    img1 = img1.split(\"../lfw/\")[-1]\n",
    "    img2 = img2.split(\"../lfw/\")[-1]\n",
    "\n",
    "    test_pairs.append([img1,img2,1]) \n",
    "    \n",
    "    \n",
    "for i in tqdm(range(int(num_pairs_test/2))):\n",
    "    \n",
    "    img1 = random.choice(test_images)\n",
    "    while img1 in anchors:\n",
    "        img1 = random.choice(test_images)\n",
    "        \n",
    "    anchors.append(img1)\n",
    "    class_img1 = img1.split(\"/\")[-2]\n",
    "\n",
    "    while True:\n",
    "        img2 = random.choice(test_images)\n",
    "        class_img2 = img2.split(\"/\")[-2]\n",
    "\n",
    "        if(class_img2!=class_img1):\n",
    "            break  \n",
    "\n",
    "    img1 = img1.split(\"../lfw/\")[-1]\n",
    "    img2 = img2.split(\"../lfw/\")[-1]\n",
    "\n",
    "    test_pairs.append([img1,img2,0]) "
   ]
  },
  {
   "cell_type": "code",
   "execution_count": 12,
   "metadata": {},
   "outputs": [
    {
     "data": {
      "text/plain": [
       "(array(['0', '1'], dtype='<U74'), array([1500, 1500]))"
      ]
     },
     "execution_count": 12,
     "metadata": {},
     "output_type": "execute_result"
    }
   ],
   "source": [
    "np.unique(np.array(train_pairs)[:,2],return_counts=True)"
   ]
  },
  {
   "cell_type": "code",
   "execution_count": 13,
   "metadata": {},
   "outputs": [
    {
     "data": {
      "text/plain": [
       "(array(['0', '1'], dtype='<U68'), array([250, 250]))"
      ]
     },
     "execution_count": 13,
     "metadata": {},
     "output_type": "execute_result"
    }
   ],
   "source": [
    "np.unique(np.array(test_pairs)[:,2],return_counts=True)"
   ]
  },
  {
   "cell_type": "code",
   "execution_count": 16,
   "metadata": {},
   "outputs": [
    {
     "data": {
      "text/plain": [
       "[['Arnold_Schwarzenegger/Arnold_Schwarzenegger_0026.jpg',\n",
       "  'Arnold_Schwarzenegger/Arnold_Schwarzenegger_0038.jpg',\n",
       "  1],\n",
       " ['Tommy_Franks/Tommy_Franks_0010.jpg',\n",
       "  'Megawati_Sukarnoputri/Megawati_Sukarnoputri_0007.jpg',\n",
       "  0],\n",
       " ['Bob_Stoops/Bob_Stoops_0007.jpg',\n",
       "  'Francesco_Totti/Francesco_Totti_0001.jpg',\n",
       "  0],\n",
       " ['Recep_Tayyip_Erdogan/Recep_Tayyip_Erdogan_0027.jpg',\n",
       "  'Hubert_Green/Hubert_Green_0001.jpg',\n",
       "  0],\n",
       " ['Rick_Husband/Rick_Husband_0001.jpg',\n",
       "  'Rick_Husband/Rick_Husband_0001.jpg',\n",
       "  1],\n",
       " ['James_Caan/James_Caan_0001.jpg', 'Lon_Kruger/Lon_Kruger_0002.jpg', 0],\n",
       " ['Natalie_Maines/Natalie_Maines_0003.jpg',\n",
       "  'Natalie_Maines/Natalie_Maines_0003.jpg',\n",
       "  1],\n",
       " ['Estelle_Morris/Estelle_Morris_0001.jpg',\n",
       "  'Rainer_Schuettler/Rainer_Schuettler_0002.jpg',\n",
       "  0],\n",
       " ['Paul_Patton/Paul_Patton_0002.jpg',\n",
       "  'Alecos_Markides/Alecos_Markides_0001.jpg',\n",
       "  0],\n",
       " ['Valentino_Rossi/Valentino_Rossi_0004.jpg',\n",
       "  'Valentino_Rossi/Valentino_Rossi_0005.jpg',\n",
       "  1]]"
      ]
     },
     "execution_count": 16,
     "metadata": {},
     "output_type": "execute_result"
    }
   ],
   "source": [
    "train_pairs = random.sample(train_pairs,len(train_pairs))\n",
    "test_pairs = random.sample(test_pairs,len(test_pairs))\n",
    "train_pairs[:10]"
   ]
  },
  {
   "cell_type": "code",
   "execution_count": 21,
   "metadata": {},
   "outputs": [
    {
     "name": "stdout",
     "output_type": "stream",
     "text": [
      "Check how many elements have the same images in the pairs .... \n",
      "0.19433333333333333\n"
     ]
    }
   ],
   "source": [
    "print(\"Check how many elements have the same images in the pairs .... \")\n",
    "\n",
    "same_sample = 0\n",
    "for pair in train_pairs:\n",
    "    if pair[0]==pair[1]:\n",
    "        same_sample = same_sample + 1\n",
    "    \n",
    "print(same_sample/len(train_pairs))"
   ]
  },
  {
   "cell_type": "code",
   "execution_count": 22,
   "metadata": {},
   "outputs": [
    {
     "name": "stdout",
     "output_type": "stream",
     "text": [
      "Check how many elements have the same images in the pairs .... \n",
      "0.188\n"
     ]
    }
   ],
   "source": [
    "print(\"Check how many elements have the same images in the pairs .... \")\n",
    "\n",
    "same_sample = 0\n",
    "for pair in test_pairs:\n",
    "    if pair[0]==pair[1]:\n",
    "        same_sample = same_sample + 1\n",
    "    \n",
    "print(same_sample/len(test_pairs))"
   ]
  },
  {
   "cell_type": "code",
   "execution_count": 23,
   "metadata": {},
   "outputs": [],
   "source": [
    "train_writer = open(\"../files/couples/train.txt\",\"w\")\n",
    "test_writer = open(\"../files/couples/test.txt\",\"w\")"
   ]
  },
  {
   "cell_type": "code",
   "execution_count": 24,
   "metadata": {},
   "outputs": [],
   "source": [
    "for i in train_pairs:\n",
    "    train_writer.write(\"{} {} {}\".format(i[0],i[1],i[2]))\n",
    "    train_writer.write(\"\\n\")"
   ]
  },
  {
   "cell_type": "code",
   "execution_count": 25,
   "metadata": {},
   "outputs": [],
   "source": [
    "for i in test_pairs:\n",
    "    test_writer.write(\"{} {} {}\".format(i[0],i[1],i[2]))\n",
    "    test_writer.write(\"\\n\")"
   ]
  },
  {
   "cell_type": "code",
   "execution_count": 26,
   "metadata": {},
   "outputs": [
    {
     "name": "stdout",
     "output_type": "stream",
     "text": [
      "Num Classes : 4636 \n"
     ]
    }
   ],
   "source": [
    "classes = os.listdir(root_dir)\n",
    "print(\"Num Classes : {} \".format(len(classes)))"
   ]
  },
  {
   "cell_type": "code",
   "execution_count": 27,
   "metadata": {},
   "outputs": [],
   "source": [
    "class_mapping = {}\n",
    "\n",
    "for index,i in enumerate(classes):\n",
    "     class_mapping[i] = index"
   ]
  },
  {
   "cell_type": "code",
   "execution_count": 28,
   "metadata": {},
   "outputs": [],
   "source": [
    "train_writer = open(\"../files/train.txt\",\"w\")\n",
    "test_writer = open(\"../files/test.txt\",\"w\")"
   ]
  },
  {
   "cell_type": "code",
   "execution_count": 29,
   "metadata": {},
   "outputs": [],
   "source": [
    "for i in train_images:\n",
    "    i = i.split(\"../lfw/\")[-1]\n",
    "    class_name = i.split(\"/\")[0]\n",
    "    class_index = class_mapping[class_name]\n",
    "    train_writer.write(\"{} {}\".format(i,class_index))\n",
    "    train_writer.write(\"\\n\")\n",
    "    \n",
    "for i in test_images:\n",
    "    i = i.split(\"../lfw/\")[-1]\n",
    "    class_name = i.split(\"/\")[0]\n",
    "    class_index = class_mapping[class_name]\n",
    "    test_writer.write(\"{} {}\".format(i,class_index))\n",
    "    test_writer.write(\"\\n\")\n",
    "    "
   ]
  },
  {
   "cell_type": "code",
   "execution_count": 30,
   "metadata": {},
   "outputs": [],
   "source": [
    "class_writer = open(\"../files/labels.txt\",\"w\")\n",
    "\n",
    "for c in classes:\n",
    "    class_writer.write(\"{}\".format(c))\n",
    "    class_writer.write(\"\\n\")"
   ]
  }
 ],
 "metadata": {
  "kernelspec": {
   "display_name": "Python 3",
   "language": "python",
   "name": "python3"
  },
  "language_info": {
   "codemirror_mode": {
    "name": "ipython",
    "version": 3
   },
   "file_extension": ".py",
   "mimetype": "text/x-python",
   "name": "python",
   "nbconvert_exporter": "python",
   "pygments_lexer": "ipython3",
   "version": "3.7.3"
  }
 },
 "nbformat": 4,
 "nbformat_minor": 4
}
