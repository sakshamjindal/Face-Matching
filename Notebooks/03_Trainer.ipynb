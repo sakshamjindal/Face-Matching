{
 "cells": [
  {
   "cell_type": "markdown",
   "metadata": {},
   "source": [
    "### 03_Trainer : Notebook to load configs, dataloaders, load pretrained model and perform training"
   ]
  },
  {
   "cell_type": "code",
   "execution_count": 1,
   "metadata": {},
   "outputs": [],
   "source": [
    "import sys\n",
    "sys.path.append(\"../\")\n",
    "\n",
    "import random\n",
    "import numpy as np\n",
    "import torch\n",
    "\n",
    "from torch.utils.data import DataLoader\n",
    "import torchvision.transforms as transforms\n",
    "from torch import optim\n",
    "from torch.optim import lr_scheduler\n",
    "import torch.nn as nn"
   ]
  },
  {
   "cell_type": "code",
   "execution_count": 2,
   "metadata": {},
   "outputs": [
    {
     "name": "stderr",
     "output_type": "stream",
     "text": [
      "Using TensorFlow backend.\n"
     ]
    }
   ],
   "source": [
    "from backbone.dataset import Face_Dataset\n",
    "from backbone.loss import ContrastiveLoss\n",
    "from backbone.networks.inception_resnet_v1 import InceptionResnetV1"
   ]
  },
  {
   "cell_type": "markdown",
   "metadata": {},
   "source": [
    "### Configs\n"
   ]
  },
  {
   "cell_type": "code",
   "execution_count": 3,
   "metadata": {},
   "outputs": [],
   "source": [
    "batch_size = 32\n",
    "lr = 1e-2\n",
    "n_epochs = 20\n",
    "log_interval = 50"
   ]
  },
  {
   "cell_type": "markdown",
   "metadata": {},
   "source": [
    "### Load the datasets"
   ]
  },
  {
   "cell_type": "code",
   "execution_count": 4,
   "metadata": {},
   "outputs": [],
   "source": [
    "face_data_train = Face_Dataset(root_dir= \"../lfw/\", file_root = \"../files/\", train=True)\n",
    "face_data_val =   Face_Dataset(root_dir= \"../lfw/\", file_root = \"../files/\", test=True)"
   ]
  },
  {
   "cell_type": "markdown",
   "metadata": {},
   "source": [
    "### Load the Model (for transfer learning)\n"
   ]
  },
  {
   "cell_type": "code",
   "execution_count": 5,
   "metadata": {},
   "outputs": [],
   "source": [
    "Siamese_network = InceptionResnetV1(pretrained='vggface2')\n",
    "checkpoint = torch.load(\"../pretrained/20180402-114759-vggface2.pt\")\n",
    "Siamese_network.load_state_dict(checkpoint)\n",
    "Siamese_network = Siamese_network.cuda()"
   ]
  },
  {
   "cell_type": "markdown",
   "metadata": {},
   "source": [
    "### Training parameters"
   ]
  },
  {
   "cell_type": "code",
   "execution_count": 6,
   "metadata": {},
   "outputs": [],
   "source": [
    "criterion = ContrastiveLoss()\n",
    "optimizer = optim.Adam(Siamese_network.parameters(), lr=lr)\n",
    "scheduler = lr_scheduler.StepLR(optimizer, 4, gamma=0.1, last_epoch=-1)"
   ]
  },
  {
   "cell_type": "markdown",
   "metadata": {},
   "source": [
    "### Dataloaders"
   ]
  },
  {
   "cell_type": "code",
   "execution_count": 7,
   "metadata": {},
   "outputs": [],
   "source": [
    "train_dataloader = DataLoader(face_data_train,\n",
    "                        shuffle=True,\n",
    "                        num_workers=8,\n",
    "                        batch_size=batch_size)"
   ]
  },
  {
   "cell_type": "code",
   "execution_count": 8,
   "metadata": {},
   "outputs": [],
   "source": [
    "test_dataloader = DataLoader(face_data_val,\n",
    "                        shuffle=True,\n",
    "                        num_workers=8,\n",
    "                        batch_size=batch_size)"
   ]
  },
  {
   "cell_type": "markdown",
   "metadata": {},
   "source": [
    "### Train Procedure"
   ]
  },
  {
   "cell_type": "code",
   "execution_count": 9,
   "metadata": {},
   "outputs": [],
   "source": [
    "from backbone.trainer import train_epoch,validate_epoch,save_model"
   ]
  },
  {
   "cell_type": "code",
   "execution_count": 10,
   "metadata": {},
   "outputs": [],
   "source": [
    "train_losses = []\n",
    "val_losses = []\n",
    "best_loss = np.inf"
   ]
  },
  {
   "cell_type": "code",
   "execution_count": 11,
   "metadata": {},
   "outputs": [],
   "source": [
    "exp_name = \"inception_resnet_V1_pretrained\""
   ]
  },
  {
   "cell_type": "code",
   "execution_count": 12,
   "metadata": {},
   "outputs": [
    {
     "name": "stdout",
     "output_type": "stream",
     "text": [
      "Epoch Number : 0\n",
      "---------------------------------------------------------------\n",
      "    Train Loss :1.0542682675605124  , Val_Loss : 1.1790979243814945 , Learning Rate: [0.01]\n",
      "\n",
      "\n",
      "Epoch Number : 1\n",
      "---------------------------------------------------------------\n",
      "    Train Loss :1.0333909011901694  , Val_Loss : 1.2268573865294456 , Learning Rate: [0.01]\n",
      "\n",
      "\n",
      "Epoch Number : 2\n",
      "---------------------------------------------------------------\n",
      "    Train Loss :1.012605110381512  , Val_Loss : 1.2957029268145561 , Learning Rate: [0.01]\n",
      "\n",
      "\n",
      "Epoch Number : 3\n",
      "---------------------------------------------------------------\n",
      "    Train Loss :0.9864011375193901  , Val_Loss : 1.0838762894272804 , Learning Rate: [0.01]\n",
      "\n",
      "\n",
      "Epoch Number : 4\n",
      "---------------------------------------------------------------\n",
      "    Train Loss :0.9890323928061951  , Val_Loss : 1.0970216244459152 , Learning Rate: [0.001]\n",
      "\n",
      "\n",
      "Epoch Number : 5\n",
      "---------------------------------------------------------------\n",
      "    Train Loss :0.9592117432584154  , Val_Loss : 1.0265710800886154 , Learning Rate: [0.001]\n",
      "\n",
      "\n",
      "Epoch Number : 6\n",
      "---------------------------------------------------------------\n",
      "    Train Loss :0.9709356072101187  , Val_Loss : 0.9910755790770054 , Learning Rate: [0.001]\n",
      "\n",
      "\n",
      "Epoch Number : 7\n",
      "---------------------------------------------------------------\n",
      "    Train Loss :0.9494895136102717  , Val_Loss : 1.017616007477045 , Learning Rate: [0.001]\n",
      "\n",
      "\n",
      "Epoch Number : 8\n",
      "---------------------------------------------------------------\n",
      "    Train Loss :0.9513414768462486  , Val_Loss : 1.0048325806856155 , Learning Rate: [0.00010000000000000002]\n",
      "\n",
      "\n",
      "Epoch Number : 9\n",
      "---------------------------------------------------------------\n",
      "    Train Loss :0.9408942461013794  , Val_Loss : 1.0174276120960712 , Learning Rate: [0.00010000000000000002]\n",
      "\n",
      "\n",
      "Epoch Number : 10\n",
      "---------------------------------------------------------------\n",
      "    Train Loss :0.9498514818384293  , Val_Loss : 1.0193586833775043 , Learning Rate: [0.00010000000000000002]\n",
      "\n",
      "\n",
      "Epoch Number : 11\n",
      "---------------------------------------------------------------\n",
      "    Train Loss :0.9410483589831818  , Val_Loss : 1.0289698839187622 , Learning Rate: [0.00010000000000000002]\n",
      "\n",
      "\n",
      "Epoch Number : 12\n",
      "---------------------------------------------------------------\n",
      "    Train Loss :0.9370134504551583  , Val_Loss : 1.021407924592495 , Learning Rate: [1.0000000000000003e-05]\n",
      "\n",
      "\n",
      "Epoch Number : 13\n",
      "---------------------------------------------------------------\n",
      "    Train Loss :0.9424350642143412  , Val_Loss : 1.00573356077075 , Learning Rate: [1.0000000000000003e-05]\n",
      "\n",
      "\n",
      "Epoch Number : 14\n",
      "---------------------------------------------------------------\n",
      "    Train Loss :0.9370999938630044  , Val_Loss : 1.0097185522317886 , Learning Rate: [1.0000000000000003e-05]\n",
      "\n",
      "\n",
      "Epoch Number : 15\n",
      "---------------------------------------------------------------\n",
      "    Train Loss :0.9466696793728686  , Val_Loss : 1.0010567270219326 , Learning Rate: [1.0000000000000003e-05]\n",
      "\n",
      "\n",
      "Epoch Number : 16\n",
      "---------------------------------------------------------------\n",
      "    Train Loss :0.932276782203228  , Val_Loss : 1.0024579465389252 , Learning Rate: [1.0000000000000002e-06]\n",
      "\n",
      "\n",
      "Epoch Number : 17\n",
      "---------------------------------------------------------------\n",
      "    Train Loss :0.9308759684258319  , Val_Loss : 1.0138041116297245 , Learning Rate: [1.0000000000000002e-06]\n",
      "\n",
      "\n",
      "Epoch Number : 18\n",
      "---------------------------------------------------------------\n",
      "    Train Loss :0.9480932488086375  , Val_Loss : 0.9810483567416668 , Learning Rate: [1.0000000000000002e-06]\n",
      "\n",
      "\n",
      "Epoch Number : 19\n",
      "---------------------------------------------------------------\n",
      "    Train Loss :0.933457114595048  , Val_Loss : 0.9945913664996624 , Learning Rate: [1.0000000000000002e-06]\n",
      "\n",
      "\n"
     ]
    }
   ],
   "source": [
    "for epoch in range(20):\n",
    "        \n",
    "    learning_rate = scheduler.get_lr()\n",
    "    train_loss = train_epoch(train_dataloader,Siamese_network,criterion,optimizer)\n",
    "    val_loss = validate_epoch(test_dataloader,Siamese_network,criterion)\n",
    "    scheduler.step()\n",
    "    \n",
    "    if val_loss<best_loss:\n",
    "        best_loss =  val_loss\n",
    "        save_model(Siamese_network,exp_name)\n",
    "\n",
    "    train_losses.append(train_loss)\n",
    "    val_losses.append(val_loss)\n",
    "    \n",
    "    print(\"Epoch Number : {}\".format(epoch))\n",
    "    print(\"---------------------------------------------------------------\")\n",
    "    print(\"    Train Loss :{}  , Val_Loss : {} , Learning Rate: {}\".format(train_loss,val_loss,learning_rate))\n",
    "    print(\"\\n\")"
   ]
  },
  {
   "cell_type": "code",
   "execution_count": 13,
   "metadata": {},
   "outputs": [
    {
     "data": {
      "text/plain": [
       "[<matplotlib.lines.Line2D at 0x7fe63041e1d0>]"
      ]
     },
     "execution_count": 13,
     "metadata": {},
     "output_type": "execute_result"
    },
    {
     "data": {
      "image/png": "[encoded data removed]",
      "text/plain": [
       "<Figure size 432x288 with 1 Axes>"
      ]
     },
     "metadata": {
      "needs_background": "light"
     },
     "output_type": "display_data"
    }
   ],
   "source": [
    "import matplotlib.pyplot as plt\n",
    "\n",
    "plt.plot(train_losses)\n",
    "plt.plot(val_losses)"
   ]
  },
  {
   "cell_type": "markdown",
   "metadata": {},
   "source": [
    "#### Implementing LR Scheduler - SGDR"
   ]
  },
  {
   "cell_type": "code",
   "execution_count": 14,
   "metadata": {},
   "outputs": [],
   "source": [
    "Siamese_network = InceptionResnetV1(pretrained='vggface2')\n",
    "checkpoint = torch.load(\"../pretrained/20180402-114759-vggface2.pt\")\n",
    "Siamese_network.load_state_dict(checkpoint)\n",
    "Siamese_network = Siamese_network.cuda()"
   ]
  },
  {
   "cell_type": "code",
   "execution_count": null,
   "metadata": {},
   "outputs": [],
   "source": [
    "criterion = ContrastiveLoss()\n",
    "optimizer = optim.Adam(Siamese_network.parameters(), lr=lr)\n",
    "scheduler = lr_scheduler.StepLR(optimizer, 4, gamma=0.1, last_epoch=-1)"
   ]
  }
 ],
 "metadata": {
  "kernelspec": {
   "display_name": "Lane",
   "language": "python",
   "name": "lane"
  },
  "language_info": {
   "codemirror_mode": {
    "name": "ipython",
    "version": 3
   },
   "file_extension": ".py",
   "mimetype": "text/x-python",
   "name": "python",
   "nbconvert_exporter": "python",
   "pygments_lexer": "ipython3",
   "version": "3.7.4"
  }
 },
 "nbformat": 4,
 "nbformat_minor": 4
}
